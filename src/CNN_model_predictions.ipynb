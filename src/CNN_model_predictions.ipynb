{
 "cells": [
  {
   "cell_type": "code",
   "execution_count": 1,
   "metadata": {},
   "outputs": [],
   "source": [
    "import tensorflow as tf\n",
    "import pandas as pd\n",
    "import numpy as np\n",
    "import matplotlib.pyplot as plt\n",
    "import os\n",
    "import skimage\n",
    "%matplotlib inline"
   ]
  },
  {
   "cell_type": "code",
   "execution_count": 2,
   "metadata": {},
   "outputs": [],
   "source": [
    "train_path = \"/home/jp_capo_98/Documents/ML-Speech-Recognition/Data/train/images\"\n",
    "test_path = \"/home/jp_capo_98/Documents/ML-Speech-Recognition/Data/test/images/\""
   ]
  },
  {
   "cell_type": "code",
   "execution_count": 3,
   "metadata": {
    "scrolled": true
   },
   "outputs": [],
   "source": [
    "# create train dictionary with file path and labes\n",
    "info = {\"label\":[], \"path\":[]}\n",
    "for directory in os.listdir(train_path):\n",
    "    for file in os.listdir(train_path+\"/\"+directory):\n",
    "        info[\"label\"].append(directory)\n",
    "        info[\"path\"].append(train_path+\"/\"+directory+\"/\"+file)"
   ]
  },
  {
   "cell_type": "code",
   "execution_count": 4,
   "metadata": {},
   "outputs": [],
   "source": [
    "# create test dictionary\n",
    "test_info = {\"name\":[], \"path\":[]}\n",
    "for file in os.listdir(test_path):\n",
    "    test_info[\"name\"].append(file)\n",
    "    test_info[\"path\"].append(test_path + file)"
   ]
  },
  {
   "cell_type": "code",
   "execution_count": 5,
   "metadata": {},
   "outputs": [],
   "source": [
    "# convert train dictionary into dataframe \n",
    "df = pd.DataFrame(info)"
   ]
  },
  {
   "cell_type": "code",
   "execution_count": 6,
   "metadata": {},
   "outputs": [],
   "source": [
    "# convert test dictionary into dataframe\n",
    "test_df = pd.DataFrame(test_info)"
   ]
  },
  {
   "cell_type": "code",
   "execution_count": 7,
   "metadata": {},
   "outputs": [
    {
     "name": "stdout",
     "output_type": "stream",
     "text": [
      "label:stop\tpath:/home/jp_capo_98/Documents/ML-Speech-Recognition/Data/train/images/stop/8dc26a15_nohash_1.png\n",
      "\n",
      "label:left\tpath:/home/jp_capo_98/Documents/ML-Speech-Recognition/Data/train/images/left/b87bdb22_nohash_0.png\n",
      "\n",
      "label:left\tpath:/home/jp_capo_98/Documents/ML-Speech-Recognition/Data/train/images/left/6cc28ce5_nohash_3.png\n",
      "\n"
     ]
    }
   ],
   "source": [
    "# check that the dataframe is correctly done\n",
    "sample = df.sample(3)\n",
    "for line in sample.iterrows():\n",
    "    print(\"label:{}\\tpath:{}\\n\".format(line[1][0], line[1][1]))"
   ]
  },
  {
   "cell_type": "code",
   "execution_count": 8,
   "metadata": {},
   "outputs": [
    {
     "name": "stdout",
     "output_type": "stream",
     "text": [
      "filename:clip_6876107f5.png\tpath:/home/jp_capo_98/Documents/ML-Speech-Recognition/Data/test/images/clip_6876107f5.png\n",
      "\n",
      "filename:clip_4f0e0a8e1.png\tpath:/home/jp_capo_98/Documents/ML-Speech-Recognition/Data/test/images/clip_4f0e0a8e1.png\n",
      "\n",
      "filename:clip_2a2478279.png\tpath:/home/jp_capo_98/Documents/ML-Speech-Recognition/Data/test/images/clip_2a2478279.png\n",
      "\n"
     ]
    }
   ],
   "source": [
    "test_sample = test_df.sample(3)\n",
    "for line in test_sample.iterrows():\n",
    "    print(\"filename:{}\\tpath:{}\\n\".format(line[1][0], line[1][1]))"
   ]
  },
  {
   "cell_type": "code",
   "execution_count": 9,
   "metadata": {
    "scrolled": true
   },
   "outputs": [
    {
     "data": {
      "text/html": [
       "<div>\n",
       "<style scoped>\n",
       "    .dataframe tbody tr th:only-of-type {\n",
       "        vertical-align: middle;\n",
       "    }\n",
       "\n",
       "    .dataframe tbody tr th {\n",
       "        vertical-align: top;\n",
       "    }\n",
       "\n",
       "    .dataframe thead tr th {\n",
       "        text-align: left;\n",
       "    }\n",
       "\n",
       "    .dataframe thead tr:last-of-type th {\n",
       "        text-align: right;\n",
       "    }\n",
       "</style>\n",
       "<table border=\"1\" class=\"dataframe\">\n",
       "  <thead>\n",
       "    <tr>\n",
       "      <th></th>\n",
       "      <th colspan=\"4\" halign=\"left\">path</th>\n",
       "    </tr>\n",
       "    <tr>\n",
       "      <th></th>\n",
       "      <th>count</th>\n",
       "      <th>unique</th>\n",
       "      <th>top</th>\n",
       "      <th>freq</th>\n",
       "    </tr>\n",
       "    <tr>\n",
       "      <th>label</th>\n",
       "      <th></th>\n",
       "      <th></th>\n",
       "      <th></th>\n",
       "      <th></th>\n",
       "    </tr>\n",
       "  </thead>\n",
       "  <tbody>\n",
       "    <tr>\n",
       "      <th>down</th>\n",
       "      <td>2359</td>\n",
       "      <td>2359</td>\n",
       "      <td>/home/jp_capo_98/Documents/ML-Speech-Recogniti...</td>\n",
       "      <td>1</td>\n",
       "    </tr>\n",
       "    <tr>\n",
       "      <th>go</th>\n",
       "      <td>2372</td>\n",
       "      <td>2372</td>\n",
       "      <td>/home/jp_capo_98/Documents/ML-Speech-Recogniti...</td>\n",
       "      <td>1</td>\n",
       "    </tr>\n",
       "    <tr>\n",
       "      <th>left</th>\n",
       "      <td>2353</td>\n",
       "      <td>2353</td>\n",
       "      <td>/home/jp_capo_98/Documents/ML-Speech-Recogniti...</td>\n",
       "      <td>1</td>\n",
       "    </tr>\n",
       "    <tr>\n",
       "      <th>no</th>\n",
       "      <td>2375</td>\n",
       "      <td>2375</td>\n",
       "      <td>/home/jp_capo_98/Documents/ML-Speech-Recogniti...</td>\n",
       "      <td>1</td>\n",
       "    </tr>\n",
       "    <tr>\n",
       "      <th>off</th>\n",
       "      <td>2357</td>\n",
       "      <td>2357</td>\n",
       "      <td>/home/jp_capo_98/Documents/ML-Speech-Recogniti...</td>\n",
       "      <td>1</td>\n",
       "    </tr>\n",
       "    <tr>\n",
       "      <th>on</th>\n",
       "      <td>2367</td>\n",
       "      <td>2367</td>\n",
       "      <td>/home/jp_capo_98/Documents/ML-Speech-Recogniti...</td>\n",
       "      <td>1</td>\n",
       "    </tr>\n",
       "    <tr>\n",
       "      <th>right</th>\n",
       "      <td>2367</td>\n",
       "      <td>2367</td>\n",
       "      <td>/home/jp_capo_98/Documents/ML-Speech-Recogniti...</td>\n",
       "      <td>1</td>\n",
       "    </tr>\n",
       "    <tr>\n",
       "      <th>silence</th>\n",
       "      <td>402</td>\n",
       "      <td>402</td>\n",
       "      <td>/home/jp_capo_98/Documents/ML-Speech-Recogniti...</td>\n",
       "      <td>1</td>\n",
       "    </tr>\n",
       "    <tr>\n",
       "      <th>stop</th>\n",
       "      <td>2380</td>\n",
       "      <td>2380</td>\n",
       "      <td>/home/jp_capo_98/Documents/ML-Speech-Recogniti...</td>\n",
       "      <td>1</td>\n",
       "    </tr>\n",
       "    <tr>\n",
       "      <th>unknown</th>\n",
       "      <td>5967</td>\n",
       "      <td>5967</td>\n",
       "      <td>/home/jp_capo_98/Documents/ML-Speech-Recogniti...</td>\n",
       "      <td>1</td>\n",
       "    </tr>\n",
       "    <tr>\n",
       "      <th>up</th>\n",
       "      <td>2375</td>\n",
       "      <td>2375</td>\n",
       "      <td>/home/jp_capo_98/Documents/ML-Speech-Recogniti...</td>\n",
       "      <td>1</td>\n",
       "    </tr>\n",
       "    <tr>\n",
       "      <th>yes</th>\n",
       "      <td>2377</td>\n",
       "      <td>2377</td>\n",
       "      <td>/home/jp_capo_98/Documents/ML-Speech-Recogniti...</td>\n",
       "      <td>1</td>\n",
       "    </tr>\n",
       "  </tbody>\n",
       "</table>\n",
       "</div>"
      ],
      "text/plain": [
       "         path                                                               \n",
       "        count unique                                                top freq\n",
       "label                                                                       \n",
       "down     2359   2359  /home/jp_capo_98/Documents/ML-Speech-Recogniti...    1\n",
       "go       2372   2372  /home/jp_capo_98/Documents/ML-Speech-Recogniti...    1\n",
       "left     2353   2353  /home/jp_capo_98/Documents/ML-Speech-Recogniti...    1\n",
       "no       2375   2375  /home/jp_capo_98/Documents/ML-Speech-Recogniti...    1\n",
       "off      2357   2357  /home/jp_capo_98/Documents/ML-Speech-Recogniti...    1\n",
       "on       2367   2367  /home/jp_capo_98/Documents/ML-Speech-Recogniti...    1\n",
       "right    2367   2367  /home/jp_capo_98/Documents/ML-Speech-Recogniti...    1\n",
       "silence   402    402  /home/jp_capo_98/Documents/ML-Speech-Recogniti...    1\n",
       "stop     2380   2380  /home/jp_capo_98/Documents/ML-Speech-Recogniti...    1\n",
       "unknown  5967   5967  /home/jp_capo_98/Documents/ML-Speech-Recogniti...    1\n",
       "up       2375   2375  /home/jp_capo_98/Documents/ML-Speech-Recogniti...    1\n",
       "yes      2377   2377  /home/jp_capo_98/Documents/ML-Speech-Recogniti...    1"
      ]
     },
     "execution_count": 9,
     "metadata": {},
     "output_type": "execute_result"
    }
   ],
   "source": [
    "# Get information about each label group\n",
    "df_grouped = df.groupby(\"label\")\n",
    "df_grouped.describe()"
   ]
  },
  {
   "cell_type": "code",
   "execution_count": 10,
   "metadata": {},
   "outputs": [],
   "source": [
    "# create one hot end encoding labels\n",
    "zero = []\n",
    "for i in range(12):\n",
    "    zero.append(np.zeros([12], dtype=np.float32))\n",
    "    zero[i][i] = 1"
   ]
  },
  {
   "cell_type": "code",
   "execution_count": 11,
   "metadata": {},
   "outputs": [
    {
     "name": "stdout",
     "output_type": "stream",
     "text": [
      "[1. 0. 0. 0. 0. 0. 0. 0. 0. 0. 0. 0.]\n",
      "[0. 1. 0. 0. 0. 0. 0. 0. 0. 0. 0. 0.]\n",
      "[0. 0. 1. 0. 0. 0. 0. 0. 0. 0. 0. 0.]\n",
      "[0. 0. 0. 1. 0. 0. 0. 0. 0. 0. 0. 0.]\n",
      "[0. 0. 0. 0. 1. 0. 0. 0. 0. 0. 0. 0.]\n",
      "[0. 0. 0. 0. 0. 1. 0. 0. 0. 0. 0. 0.]\n",
      "[0. 0. 0. 0. 0. 0. 1. 0. 0. 0. 0. 0.]\n",
      "[0. 0. 0. 0. 0. 0. 0. 1. 0. 0. 0. 0.]\n",
      "[0. 0. 0. 0. 0. 0. 0. 0. 1. 0. 0. 0.]\n",
      "[0. 0. 0. 0. 0. 0. 0. 0. 0. 1. 0. 0.]\n",
      "[0. 0. 0. 0. 0. 0. 0. 0. 0. 0. 1. 0.]\n",
      "[0. 0. 0. 0. 0. 0. 0. 0. 0. 0. 0. 1.]\n"
     ]
    }
   ],
   "source": [
    "for line in zero:\n",
    "    print(line)"
   ]
  },
  {
   "cell_type": "code",
   "execution_count": 12,
   "metadata": {},
   "outputs": [
    {
     "data": {
      "text/plain": [
       "(12, 12)"
      ]
     },
     "execution_count": 12,
     "metadata": {},
     "output_type": "execute_result"
    }
   ],
   "source": [
    "zero = np.array(zero, dtype=np.float32)\n",
    "zero.shape"
   ]
  },
  {
   "cell_type": "code",
   "execution_count": 13,
   "metadata": {},
   "outputs": [
    {
     "data": {
      "text/plain": [
       "array([1., 0., 0., 0., 0., 0., 0., 0., 0., 0., 0., 0.], dtype=float32)"
      ]
     },
     "execution_count": 13,
     "metadata": {},
     "output_type": "execute_result"
    }
   ],
   "source": [
    "zero[0]"
   ]
  },
  {
   "cell_type": "code",
   "execution_count": 14,
   "metadata": {},
   "outputs": [],
   "source": [
    "one_hot_decode_dict = {0:\"down\",\n",
    "                      1:\"go\",\n",
    "                      2:\"left\",\n",
    "                      3:\"no\",\n",
    "                      4:\"off\",\n",
    "                      5:\"on\",\n",
    "                      6:\"right\",\n",
    "                      7:\"silence\",\n",
    "                      8:\"stop\",\n",
    "                      9:\"unknown\",\n",
    "                      10:\"up\",\n",
    "                      11:\"yes\",\n",
    "                      }"
   ]
  },
  {
   "cell_type": "code",
   "execution_count": 15,
   "metadata": {},
   "outputs": [],
   "source": [
    "one_hot_dict = {\"down\": np.array(zero[0]),\n",
    "                \"go\": zero[1],\n",
    "                \"left\": zero[2],\n",
    "                \"no\": zero[3],\n",
    "                \"off\": zero[4],\n",
    "                \"on\": zero[5],\n",
    "                \"right\": zero[6],\n",
    "                \"silence\": zero[7],\n",
    "                \"stop\": zero[8],\n",
    "                \"unknown\": zero[9],\n",
    "                \"up\": zero[10],\n",
    "                \"yes\": zero[11],\n",
    "               }"
   ]
  },
  {
   "cell_type": "code",
   "execution_count": 16,
   "metadata": {},
   "outputs": [
    {
     "data": {
      "text/plain": [
       "<matplotlib.image.AxesImage at 0x7f3f852f03c8>"
      ]
     },
     "execution_count": 16,
     "metadata": {},
     "output_type": "execute_result"
    },
    {
     "data": {
      "image/png": "[encoded data removed]",
      "text/plain": [
       "<Figure size 432x288 with 1 Axes>"
      ]
     },
     "metadata": {},
     "output_type": "display_data"
    }
   ],
   "source": [
    "# Show one of the train spectograms\n",
    "sample = df.sample()\n",
    "plt.imshow(skimage.io.imread(sample.path.iloc[0]))"
   ]
  },
  {
   "cell_type": "code",
   "execution_count": 17,
   "metadata": {},
   "outputs": [
    {
     "data": {
      "text/plain": [
       "(513, 800, 3)"
      ]
     },
     "execution_count": 17,
     "metadata": {},
     "output_type": "execute_result"
    }
   ],
   "source": [
    "# get the shape of the train images\n",
    "skimage.io.imread(sample.path.iloc[0]).shape"
   ]
  },
  {
   "cell_type": "code",
   "execution_count": 18,
   "metadata": {},
   "outputs": [
    {
     "data": {
      "text/plain": [
       "<matplotlib.image.AxesImage at 0x7f3f84268c18>"
      ]
     },
     "execution_count": 18,
     "metadata": {},
     "output_type": "execute_result"
    },
    {
     "data": {
      "image/png": "[encoded data removed]",
      "text/plain": [
       "<Figure size 432x288 with 1 Axes>"
      ]
     },
     "metadata": {},
     "output_type": "display_data"
    }
   ],
   "source": [
    "# show one of the test spectograms\n",
    "test_sample = test_df.sample()\n",
    "plt.imshow(skimage.io.imread(test_sample.path.iloc[0]))"
   ]
  },
  {
   "cell_type": "code",
   "execution_count": 19,
   "metadata": {},
   "outputs": [
    {
     "data": {
      "text/plain": [
       "(513, 800, 3)"
      ]
     },
     "execution_count": 19,
     "metadata": {},
     "output_type": "execute_result"
    }
   ],
   "source": [
    "# get the shape of the test images\n",
    "skimage.io.imread(sample.path.iloc[0]).shape"
   ]
  },
  {
   "cell_type": "code",
   "execution_count": 20,
   "metadata": {},
   "outputs": [
    {
     "data": {
      "text/html": [
       "<div>\n",
       "<style scoped>\n",
       "    .dataframe tbody tr th:only-of-type {\n",
       "        vertical-align: middle;\n",
       "    }\n",
       "\n",
       "    .dataframe tbody tr th {\n",
       "        vertical-align: top;\n",
       "    }\n",
       "\n",
       "    .dataframe thead th {\n",
       "        text-align: right;\n",
       "    }\n",
       "</style>\n",
       "<table border=\"1\" class=\"dataframe\">\n",
       "  <thead>\n",
       "    <tr style=\"text-align: right;\">\n",
       "      <th></th>\n",
       "      <th>label</th>\n",
       "      <th>path</th>\n",
       "    </tr>\n",
       "  </thead>\n",
       "  <tbody>\n",
       "    <tr>\n",
       "      <th>0</th>\n",
       "      <td>on</td>\n",
       "      <td>/home/jp_capo_98/Documents/ML-Speech-Recogniti...</td>\n",
       "    </tr>\n",
       "    <tr>\n",
       "      <th>1</th>\n",
       "      <td>stop</td>\n",
       "      <td>/home/jp_capo_98/Documents/ML-Speech-Recogniti...</td>\n",
       "    </tr>\n",
       "    <tr>\n",
       "      <th>2</th>\n",
       "      <td>unknown</td>\n",
       "      <td>/home/jp_capo_98/Documents/ML-Speech-Recogniti...</td>\n",
       "    </tr>\n",
       "    <tr>\n",
       "      <th>3</th>\n",
       "      <td>stop</td>\n",
       "      <td>/home/jp_capo_98/Documents/ML-Speech-Recogniti...</td>\n",
       "    </tr>\n",
       "    <tr>\n",
       "      <th>4</th>\n",
       "      <td>go</td>\n",
       "      <td>/home/jp_capo_98/Documents/ML-Speech-Recogniti...</td>\n",
       "    </tr>\n",
       "  </tbody>\n",
       "</table>\n",
       "</div>"
      ],
      "text/plain": [
       "     label                                               path\n",
       "0       on  /home/jp_capo_98/Documents/ML-Speech-Recogniti...\n",
       "1     stop  /home/jp_capo_98/Documents/ML-Speech-Recogniti...\n",
       "2  unknown  /home/jp_capo_98/Documents/ML-Speech-Recogniti...\n",
       "3     stop  /home/jp_capo_98/Documents/ML-Speech-Recogniti...\n",
       "4       go  /home/jp_capo_98/Documents/ML-Speech-Recogniti..."
      ]
     },
     "execution_count": 20,
     "metadata": {},
     "output_type": "execute_result"
    }
   ],
   "source": [
    "# shufle data frame to make diferent datasets\n",
    "df = df.sample(frac=1).reset_index(drop=True)\n",
    "df.head()"
   ]
  },
  {
   "cell_type": "code",
   "execution_count": 21,
   "metadata": {},
   "outputs": [
    {
     "data": {
      "text/plain": [
       "'/home/jp_capo_98/Documents/ML-Speech-Recognition/Data/train/images/go/ec7d1151_nohash_1.png'"
      ]
     },
     "execution_count": 21,
     "metadata": {},
     "output_type": "execute_result"
    }
   ],
   "source": [
    "# get array of training paths\n",
    "paths = np.array(df.path.values)\n",
    "paths[300]"
   ]
  },
  {
   "cell_type": "code",
   "execution_count": 22,
   "metadata": {},
   "outputs": [
    {
     "data": {
      "text/plain": [
       "array([0., 1., 0., 0., 0., 0., 0., 0., 0., 0., 0., 0.], dtype=float32)"
      ]
     },
     "execution_count": 22,
     "metadata": {},
     "output_type": "execute_result"
    }
   ],
   "source": [
    "# get array of training labels\n",
    "labels = np.array([one_hot_dict[val] for val in df.label.values])\n",
    "labels[300]"
   ]
  },
  {
   "cell_type": "code",
   "execution_count": 23,
   "metadata": {},
   "outputs": [
    {
     "data": {
      "text/plain": [
       "'/home/jp_capo_98/Documents/ML-Speech-Recognition/Data/test/images/clip_412641866.png'"
      ]
     },
     "execution_count": 23,
     "metadata": {},
     "output_type": "execute_result"
    }
   ],
   "source": [
    "# get array of testing paths\n",
    "test_paths = np.array(test_df.path.values)\n",
    "test_paths[300]"
   ]
  },
  {
   "cell_type": "code",
   "execution_count": 24,
   "metadata": {},
   "outputs": [
    {
     "data": {
      "text/plain": [
       "'clip_412641866.png'"
      ]
     },
     "execution_count": 24,
     "metadata": {},
     "output_type": "execute_result"
    }
   ],
   "source": [
    "# get array of testing file names\n",
    "test_names = np.array(test_df.name.values)\n",
    "test_names[300]"
   ]
  },
  {
   "cell_type": "code",
   "execution_count": 25,
   "metadata": {},
   "outputs": [],
   "source": [
    "# make sure that the number of labels is the same as the number of paths\n",
    "assert paths.shape[0] == labels.shape[0]"
   ]
  },
  {
   "cell_type": "code",
   "execution_count": 26,
   "metadata": {},
   "outputs": [],
   "source": [
    "# make sure that the number of labels is the same as the number of paths\n",
    "assert test_paths.shape[0] == test_names.shape[0]"
   ]
  },
  {
   "cell_type": "code",
   "execution_count": 27,
   "metadata": {},
   "outputs": [
    {
     "name": "stdout",
     "output_type": "stream",
     "text": [
      "Paths: (30051,)\tLabels:(30051, 12)\n"
     ]
    }
   ],
   "source": [
    "# print training shapes\n",
    "print (\"Paths: {}\\tLabels:{}\".format(paths.shape, labels.shape))"
   ]
  },
  {
   "cell_type": "code",
   "execution_count": 28,
   "metadata": {},
   "outputs": [
    {
     "name": "stdout",
     "output_type": "stream",
     "text": [
      "Paths: (158538,)\tLabels:(158538,)\n"
     ]
    }
   ],
   "source": [
    "# print testing shapes\n",
    "print (\"Paths: {}\\tLabels:{}\".format(test_paths.shape, test_names.shape))"
   ]
  },
  {
   "cell_type": "markdown",
   "metadata": {},
   "source": [
    "### Helper functions"
   ]
  },
  {
   "cell_type": "code",
   "execution_count": 29,
   "metadata": {},
   "outputs": [],
   "source": [
    "# weight initialization helper function\n",
    "def init_weights(shape):\n",
    "    init_random_dist = tf.truncated_normal(shape, stddev=0.1)\n",
    "    return(tf.Variable(init_random_dist))"
   ]
  },
  {
   "cell_type": "code",
   "execution_count": 30,
   "metadata": {},
   "outputs": [],
   "source": [
    "# bias initialization function\n",
    "def init_bias(shape):\n",
    "    init_bias_vals = tf.constant(0.1,  shape=shape)\n",
    "    return (tf.Variable(init_bias_vals))"
   ]
  },
  {
   "cell_type": "code",
   "execution_count": 31,
   "metadata": {},
   "outputs": [],
   "source": [
    "# 2d convolutional layer\n",
    "def conv2d(x, W):\n",
    "    return (tf.nn.conv2d(x, W, strides=[1,1,1,1], padding=\"SAME\"))"
   ]
  },
  {
   "cell_type": "code",
   "execution_count": 32,
   "metadata": {},
   "outputs": [],
   "source": [
    "# max pool layer\n",
    "def max_pool_2by2(x):\n",
    "    return (tf.nn.max_pool(x, ksize=[1,2,2,1], strides=[1,2,2,1], padding=\"SAME\"))"
   ]
  },
  {
   "cell_type": "code",
   "execution_count": 33,
   "metadata": {},
   "outputs": [],
   "source": [
    "# batch noramlization\n",
    "def batch_norm(x, is_train):\n",
    "    return(tf.layers.batch_normalization(x, training=is_train))"
   ]
  },
  {
   "cell_type": "code",
   "execution_count": 34,
   "metadata": {},
   "outputs": [],
   "source": [
    "def convolutional_layer(input_x, shape, is_train):\n",
    "    W = init_weights(shape)\n",
    "    b = init_bias([shape[3]])\n",
    "    return (tf.nn.relu(conv2d(input_x, W)+b))"
   ]
  },
  {
   "cell_type": "code",
   "execution_count": 35,
   "metadata": {},
   "outputs": [],
   "source": [
    "def normal_full_layer(input_layer, size, is_train):\n",
    "    input_size = int(input_layer.get_shape()[1])\n",
    "    W = init_weights([input_size, size])\n",
    "    b = init_bias([size])\n",
    "    return (tf.nn.relu(tf.matmul(input_layer, W)+b))"
   ]
  },
  {
   "cell_type": "code",
   "execution_count": 36,
   "metadata": {},
   "outputs": [],
   "source": [
    "def output_full_layer(input_layer, size):\n",
    "    input_size = int(input_layer.get_shape()[1])\n",
    "    W = init_weights([input_size, size])\n",
    "    b = init_bias([size])\n",
    "    return (tf.matmul(input_layer, W)+b)"
   ]
  },
  {
   "cell_type": "markdown",
   "metadata": {},
   "source": [
    "## Datasets"
   ]
  },
  {
   "cell_type": "code",
   "execution_count": 37,
   "metadata": {},
   "outputs": [],
   "source": [
    "def _image_parse_fn(label, filename):\n",
    "    image_string = tf.read_file(filename)\n",
    "    image_decoded = tf.image.decode_png(image_string)\n",
    "    image_resized = tf.image.resize_images(image_decoded, [160, 160])\n",
    "    image_resized = tf.div(image_resized, 255)\n",
    "    return image_resized, label"
   ]
  },
  {
   "cell_type": "code",
   "execution_count": 38,
   "metadata": {},
   "outputs": [],
   "source": [
    "batch_size = 32\n",
    "num_par_calls = 4\n",
    "with tf.name_scope(\"Datasets\"):\n",
    "    # training dataset with unlimited repetitions and shuffled\n",
    "    train_dataset = tf.data.Dataset.from_tensor_slices((labels[:27046], paths[:27046]))\n",
    "    train_dataset = train_dataset.shuffle(28000)\n",
    "    train_dataset = train_dataset.repeat()\n",
    "    train_dataset = train_dataset.map(_image_parse_fn, num_parallel_calls=num_par_calls)\n",
    "    train_dataset = train_dataset.batch(batch_size)\n",
    "\n",
    "    # Evaluation train dataset with only one epoch and no shuffle\n",
    "    eval_train_dataset = tf.data.Dataset.from_tensor_slices((labels[:27046], paths[:27046]))\n",
    "    eval_train_dataset = eval_train_dataset.map(_image_parse_fn, num_parallel_calls=num_par_calls)\n",
    "    eval_train_dataset = eval_train_dataset.batch(batch_size)\n",
    "    \n",
    "    # Validation dataset with only one epoch and no shuffle\n",
    "    validation_dataset = tf.data.Dataset.from_tensor_slices((labels[27046:], paths[27046:]))\n",
    "    validation_dataset = validation_dataset.map(_image_parse_fn, num_parallel_calls=num_par_calls)\n",
    "    validation_dataset = validation_dataset.batch(batch_size)\n",
    "    \n",
    "    # test train dataset with only one epoch and no shuffle\n",
    "    test_dataset = tf.data.Dataset.from_tensor_slices((test_names, test_paths))\n",
    "    test_dataset = test_dataset.map(_image_parse_fn, num_parallel_calls=num_par_calls)\n",
    "    test_dataset = test_dataset.batch(batch_size)"
   ]
  },
  {
   "cell_type": "markdown",
   "metadata": {},
   "source": [
    "## Iterator"
   ]
  },
  {
   "cell_type": "code",
   "execution_count": 39,
   "metadata": {},
   "outputs": [],
   "source": [
    "with tf.name_scope(\"Iterator\"):\n",
    "    # train iterator\n",
    "    train_iterator = tf.data.Iterator.from_structure(train_dataset.output_types, train_dataset.output_shapes)\n",
    "    next_element_train = train_iterator.get_next()\n",
    "    train_init_op = train_iterator.make_initializer(train_dataset)\n",
    "    \n",
    "    # train evaluation iterator\n",
    "    eval_train_iterator = tf.data.Iterator.from_structure(eval_train_dataset.output_types, eval_train_dataset.output_shapes)\n",
    "    next_element_eval_train = eval_train_iterator.get_next()\n",
    "    eval_train_init_op = eval_train_iterator.make_initializer(eval_train_dataset)\n",
    "    \n",
    "    # validation iterator\n",
    "    validation_iterator = tf.data.Iterator.from_structure(validation_dataset.output_types, validation_dataset.output_shapes)\n",
    "    next_element_validation = validation_iterator.get_next()\n",
    "    validation_init_op = validation_iterator.make_initializer(validation_dataset)\n",
    "\n",
    "    # test iterator\n",
    "    test_iterator = tf.data.Iterator.from_structure(test_dataset.output_types, test_dataset.output_shapes)\n",
    "    next_element_test = test_iterator.get_next()\n",
    "    test_init_op = test_iterator.make_initializer(test_dataset)\n",
    "    "
   ]
  },
  {
   "cell_type": "markdown",
   "metadata": {},
   "source": [
    "## Placeholders"
   ]
  },
  {
   "cell_type": "code",
   "execution_count": 40,
   "metadata": {},
   "outputs": [],
   "source": [
    "with tf.name_scope(\"Inputs\"):\n",
    "    # getting array of string which will be getting the images\n",
    "    x = tf.placeholder(tf.float32, shape=[None, 160, 160, 3])\n",
    "    # gettin the one hot labels\n",
    "    y_true = tf.placeholder(tf.float32, shape=[None, 12])\n",
    "    # getting hold probability value\n",
    "    hold_prob = tf.placeholder(tf.float32)\n",
    "    # is training running?\n",
    "    is_train = tf.placeholder(tf.bool)"
   ]
  },
  {
   "cell_type": "markdown",
   "metadata": {},
   "source": [
    "## Graph"
   ]
  },
  {
   "cell_type": "code",
   "execution_count": 41,
   "metadata": {},
   "outputs": [],
   "source": [
    "# 2 convolutional layers, 1 maxpool and 1 dropout\n",
    "with tf.name_scope(\"Block1\"):\n",
    "    convo_1 = convolutional_layer(x, shape=[5,5,3,32], is_train=is_train)\n",
    "    convo_2 = convolutional_layer(convo_1, shape=[5,5,32,32], is_train=is_train)\n",
    "    maxpool_1 = max_pool_2by2(convo_2)\n",
    "    dropout_1 = tf.nn.dropout(maxpool_1, keep_prob=hold_prob)\n",
    "# input size [160, 160, 32] | output size [80, 80, 32]"
   ]
  },
  {
   "cell_type": "code",
   "execution_count": 42,
   "metadata": {},
   "outputs": [],
   "source": [
    "# 2 convo, 1 max pool and dropout\n",
    "with tf.name_scope(\"Block2\"):\n",
    "    convo_3 = convolutional_layer(dropout_1, shape=[5,5,32,64], is_train=is_train)\n",
    "    convo_4 = convolutional_layer(convo_3, shape=[5,5,64,64], is_train=is_train)\n",
    "    maxpool_2 = max_pool_2by2(convo_4)\n",
    "    dropout_2 = tf.nn.dropout(maxpool_2, keep_prob=hold_prob)\n",
    "# input size [80,80,32] | output [40, 40, 64]"
   ]
  },
  {
   "cell_type": "code",
   "execution_count": 43,
   "metadata": {},
   "outputs": [],
   "source": [
    "# 3 convo, 1 max pool and dropout\n",
    "with tf.name_scope(\"Block3\"):\n",
    "    convo_5 = convolutional_layer(dropout_2, shape=[5,5,64,64], is_train=is_train)\n",
    "    convo_6 = convolutional_layer(convo_5, shape=[5,5,64,64], is_train=is_train)\n",
    "    convo_7 = convolutional_layer(convo_6, shape=[5,5,64,64], is_train=is_train)\n",
    "    maxpool_3 = max_pool_2by2(convo_7)\n",
    "    dropout_3 = tf.nn.dropout(maxpool_3, keep_prob=hold_prob)\n",
    "# input size [40,40,64] | output [20,20,64]"
   ]
  },
  {
   "cell_type": "code",
   "execution_count": 44,
   "metadata": {},
   "outputs": [],
   "source": [
    "# fully connected layer with relu and dropout\n",
    "with tf.name_scope(\"Full_Connected_layer_1\"):\n",
    "    flatten_1 = tf.reshape(dropout_3, [-1, 20*20*64])\n",
    "    full_layer_1 = normal_full_layer(flatten_1, 1024, is_train)\n",
    "    dropout_4 = tf.nn.dropout(full_layer_1, keep_prob=hold_prob)"
   ]
  },
  {
   "cell_type": "code",
   "execution_count": 45,
   "metadata": {},
   "outputs": [],
   "source": [
    "# fully conected layer\n",
    "with tf.name_scope(\"Output_layer\"):\n",
    "    y_pred = output_full_layer(dropout_4, 12)"
   ]
  },
  {
   "cell_type": "markdown",
   "metadata": {},
   "source": [
    "### loss function"
   ]
  },
  {
   "cell_type": "code",
   "execution_count": 46,
   "metadata": {},
   "outputs": [],
   "source": [
    "with tf.name_scope(\"loss\"):\n",
    "    cross_entropy = tf.nn.softmax_cross_entropy_with_logits_v2(labels=y_true, logits=y_pred)\n",
    "    mean_cross_entropy = tf.reduce_mean(cross_entropy)"
   ]
  },
  {
   "cell_type": "markdown",
   "metadata": {},
   "source": [
    "### optimizer"
   ]
  },
  {
   "cell_type": "code",
   "execution_count": 47,
   "metadata": {},
   "outputs": [],
   "source": [
    "# optimizer\n",
    "with tf.name_scope(\"optimizer\"):\n",
    "    optimizer = tf.train.AdamOptimizer(learning_rate=0.001)"
   ]
  },
  {
   "cell_type": "markdown",
   "metadata": {},
   "source": [
    "### Training function"
   ]
  },
  {
   "cell_type": "code",
   "execution_count": 48,
   "metadata": {},
   "outputs": [],
   "source": [
    "with tf.name_scope(\"training\"):\n",
    "    train = optimizer.minimize(mean_cross_entropy)"
   ]
  },
  {
   "cell_type": "markdown",
   "metadata": {},
   "source": [
    "### Prediction function"
   ]
  },
  {
   "cell_type": "code",
   "execution_count": 49,
   "metadata": {},
   "outputs": [],
   "source": [
    "with tf.name_scope(\"Predicting\"):\n",
    "    y_soft = tf.nn.softmax(y_pred)\n",
    "    prediction = tf.argmax(y_soft, axis=1)"
   ]
  },
  {
   "cell_type": "markdown",
   "metadata": {},
   "source": [
    "### Accuracy and loss"
   ]
  },
  {
   "cell_type": "code",
   "execution_count": 50,
   "metadata": {},
   "outputs": [],
   "source": [
    "with tf.name_scope(\"Accuracy\"):\n",
    "    y_true_arg_max = tf.argmax(y_true, axis=1)\n",
    "    correct_predictions = tf.equal(prediction, y_true_arg_max)\n",
    "    batch_acc = tf.reduce_mean(tf.cast(correct_predictions, tf.float32))\n",
    "    acc_arr = tf.placeholder(tf.float32)\n",
    "    full_accuracy = tf.reduce_mean(acc_arr)\n",
    "    accuracy_summary = tf.summary.scalar(\"Accuracy\", full_accuracy)"
   ]
  },
  {
   "cell_type": "code",
   "execution_count": 51,
   "metadata": {},
   "outputs": [],
   "source": [
    "with tf.name_scope(\"Loss_for_epoch\"):\n",
    "    loss_arr = tf.placeholder(tf.float32)\n",
    "    full_loss = tf.reduce_mean(loss_arr)\n",
    "    loss_summary = tf.summary.scalar(\"Loss\", full_loss)"
   ]
  },
  {
   "cell_type": "markdown",
   "metadata": {},
   "source": [
    "### Summary merger"
   ]
  },
  {
   "cell_type": "code",
   "execution_count": 52,
   "metadata": {},
   "outputs": [],
   "source": [
    "merged_op = tf.summary.merge_all()"
   ]
  },
  {
   "cell_type": "markdown",
   "metadata": {},
   "source": [
    "### checkpoint saver"
   ]
  },
  {
   "cell_type": "code",
   "execution_count": 53,
   "metadata": {},
   "outputs": [],
   "source": [
    "saver = tf.train.Saver()"
   ]
  },
  {
   "cell_type": "markdown",
   "metadata": {},
   "source": [
    "## Variable initializer"
   ]
  },
  {
   "cell_type": "code",
   "execution_count": 54,
   "metadata": {},
   "outputs": [],
   "source": [
    "init = tf.global_variables_initializer()"
   ]
  },
  {
   "cell_type": "markdown",
   "metadata": {},
   "source": [
    "## Session"
   ]
  },
  {
   "cell_type": "code",
   "execution_count": null,
   "metadata": {
    "scrolled": true
   },
   "outputs": [],
   "source": [
    "with tf.Session(config=tf.ConfigProto(log_device_placement=True)) as sess:\n",
    "    #sess.run(init)\n",
    "    \n",
    "    \n",
    "    train_writer = tf.summary.FileWriter(\"./tensorboard/train\", graph=tf.get_default_graph())\n",
    "    validation_writer = tf.summary.FileWriter(\"./tensorboard/validation\", graph=tf.get_default_graph())\n",
    "    \n",
    "    sess.run(train_init_op)\n",
    "    saver.restore(sess, \"./model/final.ckpy\")\n",
    "    \n",
    "    for step in range(5001, 15001):\n",
    "        \n",
    "        if step % 100 == 0:\n",
    "            acc = []\n",
    "            loss = []\n",
    "            sess.run(eval_train_init_op)\n",
    "            for i in range(30):\n",
    "                try:\n",
    "                    batch_imgs, batch_labels = sess.run(next_element_eval_train)\n",
    "                except tf.errors.OutOfRangeError:\n",
    "                    break\n",
    "                train_eval_feed = {x:batch_imgs, y_true: batch_labels, hold_prob:1.0, is_train:False}\n",
    "                acc.append(sess.run(batch_acc, feed_dict=train_eval_feed))\n",
    "                loss.append(sess.run(mean_cross_entropy, feed_dict=train_eval_feed))\n",
    "            train_eval_feed = {acc_arr: acc, loss_arr:loss}\n",
    "            summary = sess.run(merged_op, feed_dict=train_eval_feed)\n",
    "            train_writer.add_summary(summary, step)\n",
    "            train_writer.flush()\n",
    "            print(\"Saved train summary at step #{}\".format(step))\n",
    "            \n",
    "            acc = []\n",
    "            loss = []\n",
    "            sess.run(validation_init_op)\n",
    "            while True:\n",
    "                try:\n",
    "                    batch_imgs, batch_labels = sess.run(next_element_validation)\n",
    "                except tf.errors.OutOfRangeError:\n",
    "                    break\n",
    "                validation_feed = {x:batch_imgs, y_true: batch_labels, hold_prob:1.0, is_train:False}\n",
    "                acc.append(sess.run(batch_acc, feed_dict=validation_feed))\n",
    "                loss.append(sess.run(mean_cross_entropy, feed_dict=validation_feed))\n",
    "            validation_feed = {acc_arr: acc, loss_arr:loss}\n",
    "            summary = sess.run(merged_op, feed_dict=validation_feed)\n",
    "            validation_writer.add_summary(summary, step)\n",
    "            validation_writer.flush()\n",
    "            print(\"Saved validation summary at step #{}\".format(step))\n",
    "            \n",
    "        if step % 1000 == 0:\n",
    "            saver.save(sess, \"./model/step_{}.ckpy\".format(step))\n",
    "            print(\"Saved checkpoint in step #{}\".format(step))\n",
    "            \n",
    "        batch_imgs, batch_labels = sess.run(next_element_train)\n",
    "        train_feed = {x:batch_imgs, y_true:batch_labels, hold_prob:0.7, is_train:True}\n",
    "        sess.run(train, feed_dict=train_feed)\n",
    "        \n",
    "        if step == 0:\n",
    "            print(\"Finished first train call\")\n",
    "    \n",
    "    saver.save(sess, \"./model/final_15k.ckpy\")\n",
    "    print(\"Training is done\")"
   ]
  },
  {
   "cell_type": "markdown",
   "metadata": {},
   "source": [
    "### Prediction"
   ]
  },
  {
   "cell_type": "code",
   "execution_count": null,
   "metadata": {
    "scrolled": true
   },
   "outputs": [],
   "source": [
    "with tf.Session(config=tf.ConfigProto(log_device_placement=True)) as sess:\n",
    "    saver.restore(sess, \"./model/step_9000.ckpy\")\n",
    "    #sess.run(init)\n",
    "    \n",
    "    sess.run(test_init_op)\n",
    "    results = {\"fname\":[], \"label\":[]}\n",
    "    batch_num = 0\n",
    "    while True:\n",
    "        try:\n",
    "            batch_imgs, batch_names = sess.run(next_element_test)\n",
    "        except tf.errors.OutOfRangeError:\n",
    "            break\n",
    "        test_feed = {x:batch_imgs, hold_prob:1.0, is_train:False}\n",
    "        predicts = sess.run(prediction, feed_dict=test_feed)\n",
    "        for name in batch_names:\n",
    "            results[\"fname\"].append(name.decode().split(\".\")[0] + \".wav\")\n",
    "        for pred in predicts:\n",
    "            results[\"label\"].append(one_hot_decode_dict[pred])\n",
    "        if batch_num % 10 == 0:\n",
    "            print(\"saved batch number: {}\".format(batch_num))\n",
    "        batch_num += 1\n",
    "        "
   ]
  },
  {
   "cell_type": "code",
   "execution_count": 71,
   "metadata": {},
   "outputs": [],
   "source": [
    "# Create Dataframe\n",
    "results_df = pd.DataFrame(results)"
   ]
  },
  {
   "cell_type": "code",
   "execution_count": 72,
   "metadata": {},
   "outputs": [
    {
     "data": {
      "text/html": [
       "<div>\n",
       "<style scoped>\n",
       "    .dataframe tbody tr th:only-of-type {\n",
       "        vertical-align: middle;\n",
       "    }\n",
       "\n",
       "    .dataframe tbody tr th {\n",
       "        vertical-align: top;\n",
       "    }\n",
       "\n",
       "    .dataframe thead th {\n",
       "        text-align: right;\n",
       "    }\n",
       "</style>\n",
       "<table border=\"1\" class=\"dataframe\">\n",
       "  <thead>\n",
       "    <tr style=\"text-align: right;\">\n",
       "      <th></th>\n",
       "      <th>fname</th>\n",
       "      <th>label</th>\n",
       "    </tr>\n",
       "  </thead>\n",
       "  <tbody>\n",
       "    <tr>\n",
       "      <th>0</th>\n",
       "      <td>clip_7181f203d.wav</td>\n",
       "      <td>unknown</td>\n",
       "    </tr>\n",
       "    <tr>\n",
       "      <th>1</th>\n",
       "      <td>clip_e3f24b646.wav</td>\n",
       "      <td>unknown</td>\n",
       "    </tr>\n",
       "    <tr>\n",
       "      <th>2</th>\n",
       "      <td>clip_635b7fc0e.wav</td>\n",
       "      <td>unknown</td>\n",
       "    </tr>\n",
       "    <tr>\n",
       "      <th>3</th>\n",
       "      <td>clip_bed90a748.wav</td>\n",
       "      <td>unknown</td>\n",
       "    </tr>\n",
       "    <tr>\n",
       "      <th>4</th>\n",
       "      <td>clip_6b598b837.wav</td>\n",
       "      <td>up</td>\n",
       "    </tr>\n",
       "  </tbody>\n",
       "</table>\n",
       "</div>"
      ],
      "text/plain": [
       "                fname    label\n",
       "0  clip_7181f203d.wav  unknown\n",
       "1  clip_e3f24b646.wav  unknown\n",
       "2  clip_635b7fc0e.wav  unknown\n",
       "3  clip_bed90a748.wav  unknown\n",
       "4  clip_6b598b837.wav       up"
      ]
     },
     "execution_count": 72,
     "metadata": {},
     "output_type": "execute_result"
    }
   ],
   "source": [
    "# Visualize it\n",
    "results_df.head()"
   ]
  },
  {
   "cell_type": "code",
   "execution_count": 73,
   "metadata": {},
   "outputs": [
    {
     "data": {
      "text/plain": [
       "(158538, 2)"
      ]
     },
     "execution_count": 73,
     "metadata": {},
     "output_type": "execute_result"
    }
   ],
   "source": [
    "# check shape\n",
    "results_df.shape"
   ]
  },
  {
   "cell_type": "code",
   "execution_count": 74,
   "metadata": {},
   "outputs": [
    {
     "data": {
      "text/html": [
       "<div>\n",
       "<style scoped>\n",
       "    .dataframe tbody tr th:only-of-type {\n",
       "        vertical-align: middle;\n",
       "    }\n",
       "\n",
       "    .dataframe tbody tr th {\n",
       "        vertical-align: top;\n",
       "    }\n",
       "\n",
       "    .dataframe thead th {\n",
       "        text-align: right;\n",
       "    }\n",
       "</style>\n",
       "<table border=\"1\" class=\"dataframe\">\n",
       "  <thead>\n",
       "    <tr style=\"text-align: right;\">\n",
       "      <th></th>\n",
       "      <th>label</th>\n",
       "    </tr>\n",
       "    <tr>\n",
       "      <th>fname</th>\n",
       "      <th></th>\n",
       "    </tr>\n",
       "  </thead>\n",
       "  <tbody>\n",
       "    <tr>\n",
       "      <th>clip_7181f203d.wav</th>\n",
       "      <td>unknown</td>\n",
       "    </tr>\n",
       "    <tr>\n",
       "      <th>clip_e3f24b646.wav</th>\n",
       "      <td>unknown</td>\n",
       "    </tr>\n",
       "    <tr>\n",
       "      <th>clip_635b7fc0e.wav</th>\n",
       "      <td>unknown</td>\n",
       "    </tr>\n",
       "    <tr>\n",
       "      <th>clip_bed90a748.wav</th>\n",
       "      <td>unknown</td>\n",
       "    </tr>\n",
       "    <tr>\n",
       "      <th>clip_6b598b837.wav</th>\n",
       "      <td>up</td>\n",
       "    </tr>\n",
       "  </tbody>\n",
       "</table>\n",
       "</div>"
      ],
      "text/plain": [
       "                      label\n",
       "fname                      \n",
       "clip_7181f203d.wav  unknown\n",
       "clip_e3f24b646.wav  unknown\n",
       "clip_635b7fc0e.wav  unknown\n",
       "clip_bed90a748.wav  unknown\n",
       "clip_6b598b837.wav       up"
      ]
     },
     "execution_count": 74,
     "metadata": {},
     "output_type": "execute_result"
    }
   ],
   "source": [
    "# Set filename as index\n",
    "results_df.set_index(\"fname\", inplace=True)\n",
    "results_df.head()"
   ]
  },
  {
   "cell_type": "code",
   "execution_count": 75,
   "metadata": {},
   "outputs": [],
   "source": [
    "# save to csv file\n",
    "results_df.to_csv(\"results_v1.csv\")"
   ]
  }
 ],
 "metadata": {
  "kernelspec": {
   "display_name": "Python 3",
   "language": "python",
   "name": "python3"
  },
  "language_info": {
   "codemirror_mode": {
    "name": "ipython",
    "version": 3
   },
   "file_extension": ".py",
   "mimetype": "text/x-python",
   "name": "python",
   "nbconvert_exporter": "python",
   "pygments_lexer": "ipython3",
   "version": "3.5.3"
  }
 },
 "nbformat": 4,
 "nbformat_minor": 2
}
